{
 "cells": [
  {
   "cell_type": "markdown",
   "metadata": {},
   "source": []
  },
  {
   "cell_type": "code",
   "execution_count": 20,
   "metadata": {},
   "outputs": [
    {
     "name": "stdout",
     "output_type": "stream",
     "text": [
      "This UI will tell you almost everything you want to know about the trends of smoking between the eyars 1980 and 2012\n",
      "          \n",
      "          It's interactive so you can get the most out of it as you can.\n",
      "\n",
      "            Choose from the functions on what you'd like to learn about:\n",
      "\n",
      "            Basic Functions:\n",
      "\n",
      "            1. OG - Show the original dataset\n",
      "            2. OZ - Show the updated Data Frame of just Australia\n",
      "            3. TOTAL - Show the total amount of Australian smokers from 1980 - 2012 \n",
      "\n",
      "\n",
      "            Advanced Functions:\n",
      "            \n",
      "            4. Year:(YYYY) - Show coloumn of information for just that year\n",
      "            5. Visualise_total - Visualise the total smoking trends between two genders\n",
      "            6. Visualise_average - Visualise the average smoking trends between two genders\n",
      "            \n",
      "            7. Quit - Quit Program\n",
      "          \n"
     ]
    }
   ],
   "source": [
    "import pandas as pd\n",
    "import matplotlib.pyplot as plt\n",
    "\n",
    "ogdb = 'PUT ORIGINAL DATABASE HERE'\n",
    "ozdb = 'PUT THE CLEANED DATABASE HERE'\n",
    "\n",
    "idk = False\n",
    "\n",
    "def originaldata():\n",
    "    print(ogdb)\n",
    "\n",
    "def smokingdata():\n",
    "    print(ozdb)\n",
    "\n",
    "def useCases():\n",
    "    global idk\n",
    "\n",
    "    print(\"\"\"This UI will tell you almost everything you want to know about the trends of smoking between the eyars 1980 and 2012\n",
    "          \n",
    "          It's interactive so you can get the most out of it as you can.\n",
    "\n",
    "            Choose from the functions on what you'd like to learn about:\n",
    "\n",
    "            Basic Functions:\n",
    "\n",
    "            1. OG - Show the original dataset\n",
    "            2. OZ - Show the updated Data Frame of just Australia\n",
    "            3. TOTAL - Show the total amount of Australian smokers from 1980 - 2012 \n",
    "\n",
    "            Advanced Functions:\n",
    "            \n",
    "            4. Year:(YYYY) - Show coloumn of information for just that year\n",
    "            5. Visualise_total - Visualise the total smoking trends between two genders\n",
    "            6. Visualise_average - Visualise the average smoking trends between two genders\n",
    "            \n",
    "            7. Quit - Quit Program\n",
    "          \"\"\")\n",
    "    \n",
    "useCases()"
   ]
  },
  {
   "cell_type": "markdown",
   "metadata": {},
   "source": []
  }
 ],
 "metadata": {
  "kernelspec": {
   "display_name": "Python 3",
   "language": "python",
   "name": "python3"
  },
  "language_info": {
   "codemirror_mode": {
    "name": "ipython",
    "version": 3
   },
   "file_extension": ".py",
   "mimetype": "text/x-python",
   "name": "python",
   "nbconvert_exporter": "python",
   "pygments_lexer": "ipython3",
   "version": "3.11.9"
  }
 },
 "nbformat": 4,
 "nbformat_minor": 2
}
